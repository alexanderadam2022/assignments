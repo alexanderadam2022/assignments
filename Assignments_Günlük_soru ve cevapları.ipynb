{
 "cells": [
  {
   "cell_type": "raw",
   "id": "9f35c208-2378-4124-bf48-0a9fa94b6d6b",
   "metadata": {},
   "source": [
    "\n",
    "Write a Python code that find the students who have maximum and minimum average at below. \n",
    "\n",
    "grades={'Student-1': {'Lesson-1': 57, 'Lesson-2': 46, 'Lesson-3': 58, 'Lesson-4': 81, 'Lesson-5': 85},\n",
    "               'Student-2': {'Lesson-1': 85, 'Lesson-2': 56, 'Lesson-3': 51, 'Lesson-4': 69, 'Lesson-5': 67},\n",
    "               'Student-3': {'Lesson-1': 68, 'Lesson-2': 76, 'Lesson-3': 87, 'Lesson-4': 57, 'Lesson-5': 56},\n",
    "               'Student-4': {'Lesson-1': 78, 'Lesson-2': 93, 'Lesson-3': 88, 'Lesson-4': 38, 'Lesson-5': 54},\n",
    "               'Student-5': {'Lesson-1': 50, 'Lesson-2': 46, 'Lesson-3': 78, 'Lesson-4': 81, 'Lesson-5': 75}}"
   ]
  },
  {
   "cell_type": "code",
   "execution_count": 15,
   "id": "d8e709bd-ea8e-4bad-ab36-c915027a6cec",
   "metadata": {},
   "outputs": [],
   "source": [
    "grades={'Student-1': {'Lesson-1': 57, 'Lesson-2': 46, 'Lesson-3': 58, 'Lesson-4': 81, 'Lesson-5': 85},\n",
    "               'Student-2': {'Lesson-1': 85, 'Lesson-2': 56, 'Lesson-3': 51, 'Lesson-4': 69, 'Lesson-5': 67},\n",
    "               'Student-3': {'Lesson-1': 68, 'Lesson-2': 76, 'Lesson-3': 87, 'Lesson-4': 57, 'Lesson-5': 56},\n",
    "               'Student-4': {'Lesson-1': 78, 'Lesson-2': 93, 'Lesson-3': 88, 'Lesson-4': 38, 'Lesson-5': 54},\n",
    "               'Student-5': {'Lesson-1': 50, 'Lesson-2': 46, 'Lesson-3': 78, 'Lesson-4': 81, 'Lesson-5': 75}}"
   ]
  },
  {
   "cell_type": "code",
   "execution_count": 3,
   "id": "6c3e6353-2d1a-46e3-8c57-5759aee802c3",
   "metadata": {},
   "outputs": [],
   "source": [
    "average1 = sum(grades[\"Student-1\"].values())/len(grades[\"Student-1\"].values())\n",
    "average2 = sum(grades[\"Student-2\"].values())/len(grades[\"Student-2\"].values())\n",
    "average3 = sum(grades[\"Student-3\"].values())/len(grades[\"Student-3\"].values())\n",
    "average4 = sum(grades[\"Student-4\"].values())/len(grades[\"Student-4\"].values())\n",
    "average5 = sum(grades[\"Student-5\"].values())/len(grades[\"Student-5\"].values())"
   ]
  },
  {
   "cell_type": "code",
   "execution_count": 4,
   "id": "4c4ca46b-59e1-4dc8-9e6f-c7bf47e5af6c",
   "metadata": {},
   "outputs": [],
   "source": [
    "dict_student_grade = {\"Student-1\": average1, \"Student-2\": average2, \"Student-3\":average3,\\\n",
    "              \"Student-4\": average4, \"Student-5\": average5}"
   ]
  },
  {
   "cell_type": "code",
   "execution_count": 5,
   "id": "29b5210e-4b14-462e-8dec-4ae6cb4b9a5c",
   "metadata": {},
   "outputs": [
    {
     "name": "stdout",
     "output_type": "stream",
     "text": [
      "{'Student-1': 65.4, 'Student-2': 65.6, 'Student-3': 68.8, 'Student-4': 70.2, 'Student-5': 66.0}\n"
     ]
    }
   ],
   "source": [
    "print(dict_student_grade)"
   ]
  },
  {
   "cell_type": "code",
   "execution_count": 6,
   "id": "8d709746-db6b-4172-94e2-484492f9c0b4",
   "metadata": {},
   "outputs": [],
   "source": [
    "max_average_student = max(dict_student_grade, key = dict_student_grade.get)"
   ]
  },
  {
   "cell_type": "code",
   "execution_count": 7,
   "id": "5158e4b0-17b5-496c-81bb-49f727e06ed7",
   "metadata": {},
   "outputs": [
    {
     "name": "stdout",
     "output_type": "stream",
     "text": [
      "Student-4\n"
     ]
    }
   ],
   "source": [
    "print(max_average_student)"
   ]
  },
  {
   "cell_type": "code",
   "execution_count": 8,
   "id": "dfd440a2-ffd5-4a86-9561-1de28c2b9ca3",
   "metadata": {},
   "outputs": [],
   "source": [
    "max_grade = max(dict_student_grade.values())"
   ]
  },
  {
   "cell_type": "code",
   "execution_count": 9,
   "id": "127e6123-113e-4e4d-a544-f671e5327b1b",
   "metadata": {},
   "outputs": [
    {
     "name": "stdout",
     "output_type": "stream",
     "text": [
      "70.2\n"
     ]
    }
   ],
   "source": [
    "print(max_grade)"
   ]
  },
  {
   "cell_type": "code",
   "execution_count": 10,
   "id": "b6dfc84d-a3ae-4a47-9eb5-425cd97b5838",
   "metadata": {},
   "outputs": [],
   "source": [
    "min_average_student = min(dict_student_grade, key = dict_student_grade.get)"
   ]
  },
  {
   "cell_type": "code",
   "execution_count": 11,
   "id": "fa68d8bc-ea91-46a2-a038-670d0483eb42",
   "metadata": {},
   "outputs": [
    {
     "name": "stdout",
     "output_type": "stream",
     "text": [
      "Student-1\n"
     ]
    }
   ],
   "source": [
    "print(min_average_student)"
   ]
  },
  {
   "cell_type": "code",
   "execution_count": 12,
   "id": "6c813a6a-6b6e-4682-ac8e-79010a325517",
   "metadata": {},
   "outputs": [],
   "source": [
    "min_grade = min(dict_student_grade.values())"
   ]
  },
  {
   "cell_type": "code",
   "execution_count": 13,
   "id": "18707dbc-dd24-4387-87a8-bb4663371ab4",
   "metadata": {},
   "outputs": [
    {
     "name": "stdout",
     "output_type": "stream",
     "text": [
      "65.4\n"
     ]
    }
   ],
   "source": [
    "print(min_grade)"
   ]
  },
  {
   "cell_type": "code",
   "execution_count": 14,
   "id": "545322c8-0645-4e7c-b015-d7bf02ef9625",
   "metadata": {},
   "outputs": [
    {
     "name": "stdout",
     "output_type": "stream",
     "text": [
      "The student who have maximum is Student-4 and her grade is 70.2.\n",
      "The student who have maximum is Student-1 and her grade is 65.4.\n"
     ]
    }
   ],
   "source": [
    "print(\"The student who have maximum is {} and her grade is {}.\".format(max_average_student, max_grade))\n",
    "print(\"The student who have maximum is {} and her grade is {}.\".format(min_average_student, min_grade))"
   ]
  },
  {
   "cell_type": "markdown",
   "id": "ef2bf537-d3a3-4422-b972-f0b3e02bcc78",
   "metadata": {},
   "source": [
    "\n",
    "Write a Python script to concatenate following dictionaries to create a new one.\n",
    "\n",
    "Sample Dictionary :\n",
    "dic1={1:10, 2:20}\n",
    "dic2={3:30, 4:40}\n",
    "dic3={5:50,6:60}\n",
    "Expected Result : {1: 10, 2: 20, 3: 30, 4: 40, 5: 50, 6: 60}\n"
   ]
  },
  {
   "cell_type": "code",
   "execution_count": 2,
   "id": "4928a8fa-02d1-4ce2-8e7d-d8f69ac96eb7",
   "metadata": {},
   "outputs": [],
   "source": [
    "dic1={1:10, 2:20}\n",
    "dic2={3:30, 4:40}\n",
    "dic3={5:50,6:60}"
   ]
  },
  {
   "cell_type": "code",
   "execution_count": 3,
   "id": "6bbb4c43-32a3-4f64-98f8-d813a02e82a0",
   "metadata": {},
   "outputs": [],
   "source": [
    "new_dict = dict()\n",
    "new_dict.update(dic1)\n",
    "new_dict.update(dic2)\n",
    "new_dict.update(dic3)"
   ]
  },
  {
   "cell_type": "code",
   "execution_count": 4,
   "id": "34be31f9-d9d4-4c91-9151-84375a854cc2",
   "metadata": {},
   "outputs": [
    {
     "name": "stdout",
     "output_type": "stream",
     "text": [
      "{1: 10, 2: 20, 3: 30, 4: 40, 5: 50, 6: 60}\n"
     ]
    }
   ],
   "source": [
    "print(new_dict)"
   ]
  },
  {
   "cell_type": "raw",
   "id": "30394ef5-40e6-4a41-99fd-069bed364de5",
   "metadata": {},
   "source": [
    "\n",
    "Objective:\n",
    "\n",
    "To improve your knowledge of collection types (set), boolean logic and raise your awareness of \"ten fingers keyboard\".\n",
    "\n",
    "Task : Find out if the given word is \"comfortable words\" in relation to the ten-finger keyboard use.\n",
    "\n",
    "-A comfortable word is a word which you can type always alternating the hand you type with (assuming you type using a Q-keyboard and use of the ten-fingers standard).\n",
    "-The word will always be a string consisting of only letters from a to z.\n",
    "-Write a program which returns True if it's a comfortable word or False otherwise.\n",
    "\n",
    "Examples\n",
    "Given word  \tDesired Output (explanation)\n",
    "tester  \t    False (uses only left-hand fingers)*\n",
    "polly   \t    False (uses only right-hand fingers)*\n",
    "clarusway \t    True (uses both hand fingers)*\n"
   ]
  },
  {
   "cell_type": "raw",
   "id": "947016ee-5184-4bab-85d1-1b8d93172df4",
   "metadata": {},
   "source": [
    "# Benim çözümüm."
   ]
  },
  {
   "cell_type": "code",
   "execution_count": 1,
   "id": "42599673-3f03-473c-a319-f1ab8b0ca7e5",
   "metadata": {},
   "outputs": [
    {
     "name": "stdout",
     "output_type": "stream",
     "text": [
      "{'ı', 'ş', 'p', 'ğ', 'n', 'o', 'h', 'j', 'l', 'ö', 'ü', 'u', 'k', 'i', 'ç', 'y', 'm'}\n",
      "{'r', 'd', 'c', 'e', 'q', 'x', 't', 'b', 'f', 'w', 'z', 'v', 'a', 'g', 's'}\n"
     ]
    }
   ],
   "source": [
    "right_hand_fingers_letters = set(\"yuıopğühjklşinmöç\")\n",
    "left_hand_fingers_letters = set(\"qwertasdfgzxcvb\")\n",
    "print(right_hand_fingers_letters)\n",
    "print(left_hand_fingers_letters)"
   ]
  },
  {
   "cell_type": "code",
   "execution_count": 14,
   "id": "e70c5116-2053-4ad7-be1b-bf80f6faa752",
   "metadata": {},
   "outputs": [
    {
     "name": "stdin",
     "output_type": "stream",
     "text": [
      "Is it comfortable word, pls ask me?: polly\n"
     ]
    },
    {
     "name": "stdout",
     "output_type": "stream",
     "text": [
      "My words' letters: {'y', 'o', 'l', 'p'}\n",
      "Your words' comfortable word situation is set()\n"
     ]
    }
   ],
   "source": [
    "word = input(\"Is it comfortable word, pls ask me?:\")\n",
    "set_word = set(word)\n",
    "print(\"My words' letters:\", set_word)\n",
    "print(\"Your words' comfortable word situation is\", (set_word.difference(right_hand_fingers_letters)\\\n",
    "     and set_word.difference(left_hand_fingers_letters)))"
   ]
  },
  {
   "cell_type": "raw",
   "id": "c40ffdb6-f5a3-45aa-b713-1852c8e7a90c",
   "metadata": {},
   "source": [
    "\n",
    "# Derste Hocanın Yaptığı Çözüm Aşağıdadır."
   ]
  },
  {
   "cell_type": "code",
   "execution_count": 8,
   "id": "0b4fec5d-f03e-4fde-aa5a-2c97a373b5e3",
   "metadata": {},
   "outputs": [
    {
     "data": {
      "text/plain": [
       "{'a', 'b', 'c', 'd', 'e', 'f', 'g', 'q', 'r', 's', 't', 'v', 'w', 'x', 'z'}"
      ]
     },
     "execution_count": 8,
     "metadata": {},
     "output_type": "execute_result"
    }
   ],
   "source": [
    "left = set(\"qwertasdfgzxcvb\")\n",
    "left"
   ]
  },
  {
   "cell_type": "code",
   "execution_count": 14,
   "id": "a981c786-37c2-4dcf-857f-5e4a993ffdef",
   "metadata": {},
   "outputs": [
    {
     "data": {
      "text/plain": [
       "{'h', 'i', 'j', 'k', 'l', 'm', 'n', 'o', 'p', 'u', 'y', 'ö', 'ü', 'ı', 'ş'}"
      ]
     },
     "execution_count": 14,
     "metadata": {},
     "output_type": "execute_result"
    }
   ],
   "source": [
    "right = set(\"yuıopühjklşinmö\")\n",
    "right"
   ]
  },
  {
   "cell_type": "code",
   "execution_count": 15,
   "id": "2db95465-86a2-40b6-97a2-90868f16ba1a",
   "metadata": {},
   "outputs": [],
   "source": [
    "word = \"clarusway\""
   ]
  },
  {
   "cell_type": "code",
   "execution_count": 16,
   "id": "5d0ccca6-d270-4982-988f-fc333e62ae96",
   "metadata": {},
   "outputs": [
    {
     "data": {
      "text/plain": [
       "{'a', 'c', 'l', 'r', 's', 'u', 'w', 'y'}"
      ]
     },
     "execution_count": 16,
     "metadata": {},
     "output_type": "execute_result"
    }
   ],
   "source": [
    "word = set(word)\n",
    "word"
   ]
  },
  {
   "cell_type": "code",
   "execution_count": 17,
   "id": "b6f725c6-b591-49e2-b206-c0537e921814",
   "metadata": {},
   "outputs": [],
   "source": [
    "leftcheck = bool(word.intersection(left))\n",
    "rightcheck = bool(word.intersection(right))"
   ]
  },
  {
   "cell_type": "code",
   "execution_count": 19,
   "id": "cf62dc41-f5c3-4fdc-9231-25b52ff59e69",
   "metadata": {},
   "outputs": [
    {
     "data": {
      "text/plain": [
       "True"
      ]
     },
     "execution_count": 19,
     "metadata": {},
     "output_type": "execute_result"
    }
   ],
   "source": [
    "leftcheck"
   ]
  },
  {
   "cell_type": "code",
   "execution_count": 20,
   "id": "0a1e080c-1aba-4f7d-8eac-288655ee310e",
   "metadata": {},
   "outputs": [
    {
     "data": {
      "text/plain": [
       "True"
      ]
     },
     "execution_count": 20,
     "metadata": {},
     "output_type": "execute_result"
    }
   ],
   "source": [
    "rightcheck"
   ]
  },
  {
   "cell_type": "code",
   "execution_count": 22,
   "id": "9a7fb449-8514-4ee9-8240-63b07a53a628",
   "metadata": {},
   "outputs": [
    {
     "data": {
      "text/plain": [
       "True"
      ]
     },
     "execution_count": 22,
     "metadata": {},
     "output_type": "execute_result"
    }
   ],
   "source": [
    "sonuc = leftcheck and rightcheck\n",
    "sonuc"
   ]
  },
  {
   "cell_type": "raw",
   "id": "b242e5c8-50c1-4d15-b6a1-1fc37068f367",
   "metadata": {},
   "source": [
    "\n",
    "Write a program that takes a maximum two-digit (1-99) number from the user and finds the pronunciation of that number. For example:\n",
    "İnput:97\n",
    "Output:Doksan Yedi \n"
   ]
  },
  {
   "cell_type": "code",
   "execution_count": 7,
   "id": "4d8e8fe9-1bdb-41d7-897f-6386bffabd21",
   "metadata": {},
   "outputs": [
    {
     "name": "stdout",
     "output_type": "stream",
     "text": [
      "Collecting inflect\n",
      "  Downloading inflect-5.4.0-py3-none-any.whl (33 kB)\n",
      "Installing collected packages: inflect\n",
      "Successfully installed inflect-5.4.0\n",
      "Note: you may need to restart the kernel to use updated packages.\n"
     ]
    }
   ],
   "source": [
    "pip install inflect"
   ]
  },
  {
   "cell_type": "code",
   "execution_count": 8,
   "id": "be205344-01e7-4373-8544-5e6acf64bfb9",
   "metadata": {},
   "outputs": [],
   "source": [
    "import inflect"
   ]
  },
  {
   "cell_type": "code",
   "execution_count": 9,
   "id": "9b87b812-5aca-4602-ac67-74c6b2b877c4",
   "metadata": {},
   "outputs": [],
   "source": [
    "p = inflect.engine()"
   ]
  },
  {
   "cell_type": "code",
   "execution_count": 10,
   "id": "f2d4cbff-7528-44a8-9382-4ad1ad5003f9",
   "metadata": {},
   "outputs": [
    {
     "data": {
      "text/plain": [
       "'ninety-seven'"
      ]
     },
     "execution_count": 10,
     "metadata": {},
     "output_type": "execute_result"
    }
   ],
   "source": [
    "p.number_to_words(97)"
   ]
  },
  {
   "cell_type": "code",
   "execution_count": null,
   "id": "5c9dc89e-e3bf-46f6-bcbb-f6a8a0243972",
   "metadata": {},
   "outputs": [],
   "source": [
    "Farklı bir çözüm"
   ]
  },
  {
   "cell_type": "code",
   "execution_count": 30,
   "id": "9b9dfac5-aa83-4aad-a5a9-59f1aae15de9",
   "metadata": {},
   "outputs": [
    {
     "name": "stdout",
     "output_type": "stream",
     "text": [
      "Collecting num2wordsNote: you may need to restart the kernel to use updated packages.\n",
      "  Downloading num2words-0.5.10-py3-none-any.whl (101 kB)\n",
      "Collecting docopt>=0.6.2\n",
      "  Downloading docopt-0.6.2.tar.gz (25 kB)\n",
      "Building wheels for collected packages: docopt\n",
      "  Building wheel for docopt (setup.py): started\n",
      "  Building wheel for docopt (setup.py): finished with status 'done'\n",
      "  Created wheel for docopt: filename=docopt-0.6.2-py2.py3-none-any.whl size=13724 sha256=41ad42c205c3514753f47fc368c2a6be6ca947caea761d2baa1f08ca73b5ab80\n",
      "  Stored in directory: c:\\users\\asus-k555u\\appdata\\local\\pip\\cache\\wheels\\70\\4a\\46\\1309fc853b8d395e60bafaf1b6df7845bdd82c95fd59dd8d2b\n",
      "Successfully built docopt\n",
      "Installing collected packages: docopt, num2words\n",
      "Successfully installed docopt-0.6.2 num2words-0.5.10\n",
      "\n"
     ]
    }
   ],
   "source": [
    "pip install num2words"
   ]
  },
  {
   "cell_type": "code",
   "execution_count": 32,
   "id": "49087f99-c6ed-4848-8d34-33352ff9636f",
   "metadata": {},
   "outputs": [],
   "source": [
    "from num2words import num2words"
   ]
  },
  {
   "cell_type": "code",
   "execution_count": 35,
   "id": "6a97abac-e7cf-44c8-ad29-9a2a64b02f60",
   "metadata": {},
   "outputs": [
    {
     "name": "stdout",
     "output_type": "stream",
     "text": [
      "doksanyedi\n"
     ]
    }
   ],
   "source": [
    "print(num2words(97, lang ='tr'))"
   ]
  },
  {
   "cell_type": "code",
   "execution_count": 36,
   "id": "55140a0e-46f8-47ff-bca4-f145bccddfda",
   "metadata": {},
   "outputs": [
    {
     "name": "stdout",
     "output_type": "stream",
     "text": [
      "ninety-seven\n"
     ]
    }
   ],
   "source": [
    "print(num2words(97))"
   ]
  },
  {
   "cell_type": "code",
   "execution_count": 17,
   "id": "811184d5-1eb6-4c2f-a483-db545e3e621c",
   "metadata": {},
   "outputs": [
    {
     "name": "stdin",
     "output_type": "stream",
     "text": [
      "enter a number =  97\n"
     ]
    },
    {
     "name": "stdout",
     "output_type": "stream",
     "text": [
      "doksan-yedi\n"
     ]
    }
   ],
   "source": [
    "x = input (\"enter a number = \") # Farklı bir çözüm\n",
    "num = x[0]\n",
    "num_2= x[1]\n",
    "dic = { \"1\":\"on\" ,\"2\" : \"yirmi\" , \"3\": \"otuz\" , \"4\" : \"kırk\" , \"5\" : \"elli\" , \"6\": \"altmış\" ,\"7\" : \"yetmiş\" , \"8\" : \"seksen\", \"9\" : \"doksan\"}\n",
    "dic1 = { \"1\":\"bir\" ,\"2\" : \"iki\" , \"3\": \"üç\" , \"4\" : \"dört\" , \"5\" : \"beş\" , \"6\": \"altı\" ,\"7\" : \"yedi\" , \"8\" : \"sekiz\", \"9\" : \"dokuz\"}\n",
    "print(dic.get(num) + \"-\" + dic1.get(num_2))"
   ]
  },
  {
   "cell_type": "markdown",
   "id": "9f3ed363-b68d-4576-a6ed-0ead0fd85c0a",
   "metadata": {},
   "source": [
    "\n",
    "Write a program to check if a given string is a Palindrome. A palindrome reads same from front and back e.g.- aba, ccaacc, mom, etc.\n",
    "INPUT: aba\n",
    "OUTPUT: True\n",
    "INPUT: berlin\n",
    "OUTPUT: False\n"
   ]
  },
  {
   "cell_type": "code",
   "execution_count": 1,
   "id": "e2cd065e-eb33-4649-80ca-e8f519c2a056",
   "metadata": {},
   "outputs": [
    {
     "name": "stdin",
     "output_type": "stream",
     "text": [
      "enter a word:  ata\n"
     ]
    },
    {
     "name": "stdout",
     "output_type": "stream",
     "text": [
      "true\n"
     ]
    }
   ],
   "source": [
    "a = str(input(\"enter a word: \"))\n",
    "x = list(a)\n",
    "y = list(a)[::-1]\n",
    "if x == y : print(\"true\")\n",
    "else : print(\"false\")"
   ]
  },
  {
   "cell_type": "code",
   "execution_count": 4,
   "id": "4e93bd33-065e-4fc8-a79c-6241d8c23b5b",
   "metadata": {},
   "outputs": [
    {
     "name": "stdin",
     "output_type": "stream",
     "text": [
      "enter a word:  ey edip adanada pide ye\n"
     ]
    },
    {
     "data": {
      "text/plain": [
       "True"
      ]
     },
     "execution_count": 4,
     "metadata": {},
     "output_type": "execute_result"
    }
   ],
   "source": [
    "word = input(\"enter a word: \") # Farklı bir çözüm\n",
    "palindrome = (word[:] == word[::-1])\n",
    "palindrome"
   ]
  },
  {
   "cell_type": "code",
   "execution_count": 3,
   "id": "51654477-66c7-4416-8ca5-cb30a1f4654d",
   "metadata": {},
   "outputs": [
    {
     "name": "stdin",
     "output_type": "stream",
     "text": [
      "Write a Palindrome word:  kek\n"
     ]
    },
    {
     "name": "stdout",
     "output_type": "stream",
     "text": [
      "True\n"
     ]
    }
   ],
   "source": [
    "word = (input(\"Write a Palindrome word: \")) # Farklı bir çözüm\n",
    "print(word[:] == word[::-1])"
   ]
  },
  {
   "cell_type": "markdown",
   "id": "15a2114a-3390-4be0-b925-50d635321a9d",
   "metadata": {},
   "source": [
    "# Bir Soru"
   ]
  },
  {
   "cell_type": "code",
   "execution_count": 30,
   "id": "d00c19de-9691-4fe6-b394-66425d71ed8b",
   "metadata": {},
   "outputs": [
    {
     "name": "stdout",
     "output_type": "stream",
     "text": [
      "three one was a race horse, two two one was too.\n"
     ]
    }
   ],
   "source": [
    "txt = \"one one was a race horse, two two one was too.\"\n",
    "\n",
    "x = txt.replace(\"one\", \"three\", 1)\n",
    "\n",
    "print(x)"
   ]
  },
  {
   "cell_type": "raw",
   "id": "3f4a2d26-9c0b-4be6-a588-cb9934da9b9d",
   "metadata": {},
   "source": [
    "\n",
    "Fill in the blanks to complete the program that prints all elements of the flowers list below each on separate lines such as :\n",
    "\n",
    "Rose\n",
    "Orchid\n",
    "Tulip\n",
    "Note: Use while loop.\n",
    "\n",
    "Answer:(penalty regime: 0, 10, 20, ... %)\n"
   ]
  },
  {
   "cell_type": "code",
   "execution_count": 1,
   "id": "27e7357a-128d-4848-a274-0724d5bf3ad5",
   "metadata": {},
   "outputs": [
    {
     "name": "stdout",
     "output_type": "stream",
     "text": [
      "Rose\n",
      "Orchid\n",
      "Tulip\n"
     ]
    }
   ],
   "source": [
    "flowers = ['Rose', 'Orchid', 'Tulip']\n",
    "count1 = len(flowers)\n",
    "count2 = 0\n",
    "\n",
    "while count1>0 :\n",
    "    print(flowers[count2])\n",
    "    count1 -= 1\n",
    "    count2 += 1"
   ]
  },
  {
   "cell_type": "raw",
   "id": "3dff9338-60b8-4008-8db0-c16ad041b5ec",
   "metadata": {},
   "source": [
    "\n",
    "Task : Let's say; you left a message in the past that prints a password you need. To see the password you wrote, you need to enter your name and the program should recognize you.\n",
    "Write a program that \n",
    "\n",
    "Takes the first name from the user and compares it to yours,\n",
    "Then if the name the user entered is the same as yours, print out such as : \"Hello, Joseph! The password is : W@12\",\n",
    "If the name the user entered is not the same as yours, print out such as : \"Hello, Amina! See you later.\"\n"
   ]
  },
  {
   "cell_type": "code",
   "execution_count": 2,
   "id": "088228e4-41e2-4171-82d9-e3ed4a415172",
   "metadata": {},
   "outputs": [
    {
     "name": "stdin",
     "output_type": "stream",
     "text": [
      "Enter your first name2:  Joseph\n"
     ]
    },
    {
     "name": "stdout",
     "output_type": "stream",
     "text": [
      "Hello, Joseph! The password is : W@12 \n"
     ]
    }
   ],
   "source": [
    "name1 = \"Joseph\"\n",
    "first_name2 = input(\"Enter your first name2: \")\n",
    "\n",
    "if first_name2.title() == name1 :\n",
    "  print(\"Hello, Joseph! The password is : W@12 \")\n",
    "else :\n",
    "  print(f\"Hello, {first_name2}! See you later.\")"
   ]
  },
  {
   "cell_type": "code",
   "execution_count": null,
   "id": "b4a2a882-5b19-4f73-9713-eeeecee1e354",
   "metadata": {},
   "outputs": [],
   "source": [
    "Task : Estimating the risk of death from coronavirus. Write a program that;\n",
    "Takes \"Yes\" or \"No\" from the user as an answer to the following questions :\n",
    "Are you a cigarette addict older than 75 years old? Variable → age\n",
    "Do you have a severe chronic disease? Variable → chronic\n",
    "Is your immune system too weak? Variable → immune\n",
    "\n",
    "Set a logical algorithm using boolean logic operators \n",
    "(and/or) and use if-statements with the given variables in order to print out\n",
    "us a message : \"You are in risky group\"(if True ) or \"You are not in risky group\" (if False).\n",
    "\n",
    "age =  # can be assigned only True/False\n",
    "chronic =  # can be assigned only True/False\n",
    "immune =  # can be assigned only True/False\n",
    "risk = ?\n"
   ]
  },
  {
   "cell_type": "code",
   "execution_count": 10,
   "id": "d197986c-53f6-43e4-b5ac-426953ba6f52",
   "metadata": {},
   "outputs": [
    {
     "name": "stdin",
     "output_type": "stream",
     "text": [
      "Are you a cigarette addict older than 75 years old?: no\n",
      "Do you have a severe chronic disease?: no\n",
      "Is your immune system too weak?: yes\n"
     ]
    }
   ],
   "source": [
    "age = input(\"Are you a cigarette addict older than 75 years old?:\").lower()\n",
    "chronic = input(\"Do you have a severe chronic disease?:\").lower()\n",
    "immune = input(\"Is your immune system too weak?:\").lower()"
   ]
  },
  {
   "cell_type": "code",
   "execution_count": 12,
   "id": "9d7a4303-f2d7-44b6-9383-a322570233ae",
   "metadata": {},
   "outputs": [
    {
     "name": "stdout",
     "output_type": "stream",
     "text": [
      "You are not in risky group\n"
     ]
    }
   ],
   "source": [
    "if age == \"Yes\":\n",
    "    age = True\n",
    "else:\n",
    "    age = False\n",
    "if chronic == \"Yes\":\n",
    "    chronic = True\n",
    "else:\n",
    "    chronic = False \n",
    "if immune == \"Yes\":\n",
    "    immune = True\n",
    "else:\n",
    "    immune = False\n",
    "if age or chronic or immune:\n",
    "    print(\"You are in risky group\")\n",
    "else:\n",
    "    print(\"You are not in risky group\")"
   ]
  },
  {
   "cell_type": "raw",
   "id": "9f760346-810d-4074-be69-04d6c2c718df",
   "metadata": {},
   "source": [
    "Find out if a given number is an \"Armstrong Number\".\n",
    "\n",
    "An n-digit number that is the sum of the nth powers of its digits is called an n-Armstrong number. Examples :\n",
    "371 = 3*3 + 7*3 + 1*3;(Rakamların küpü)\n",
    "9474 = 9*4 + 4*4 + 7*4 + 4*4;(Rakamların 4'üncü kuvveti)\n",
    "93084 = 9*5 + 3*5 + 0*5 + 8*5 + 4*5 (Rakamların 5'inci kuvveti)\n",
    "\n",
    "Write a Python program that;\n",
    "takes a positive integer number from the user,\n",
    "checks the entered number if it is Armstrong,\n",
    "consider the negative, float and any entries other than numeric values then display a warning message to the user.\n"
   ]
  },
  {
   "cell_type": "code",
   "execution_count": 22,
   "id": "0f052e6b-4528-4bf1-a9e9-2cf01b19ee4d",
   "metadata": {},
   "outputs": [
    {
     "name": "stdin",
     "output_type": "stream",
     "text": [
      "Enter a number:  407\n"
     ]
    },
    {
     "name": "stdout",
     "output_type": "stream",
     "text": [
      "407 is an Armstrong number\n"
     ]
    }
   ],
   "source": [
    "num = int(input(\"Enter a number: \"))\n",
    "order = len(str(num))\n",
    "sum = 0\n",
    "temp = num\n",
    "while temp > 0:\n",
    "   digit = temp % 10\n",
    "   sum += digit ** order\n",
    "   temp //= 10\n",
    "\n",
    "if num == sum:\n",
    "   print(num,\"is an Armstrong number\")\n",
    "else:\n",
    "   print(num,\"is not an Armstrong number\")"
   ]
  },
  {
   "cell_type": "code",
   "execution_count": 1,
   "id": "b0eca260-aa9d-4e9d-b051-6d20e25143b5",
   "metadata": {},
   "outputs": [
    {
     "name": "stdin",
     "output_type": "stream",
     "text": [
      "write a positive integer number 25\n"
     ]
    },
    {
     "name": "stdout",
     "output_type": "stream",
     "text": [
      "25 is not armstrong number\n"
     ]
    }
   ],
   "source": [
    "# armstrong number assignment farklı bir çözüm\n",
    "number = (input(\"write a positive integer number\"))\n",
    "\n",
    "if not number.isdecimal():\n",
    "    print(\"please write a positive integer, not float or negative etc.\")\n",
    "\n",
    "else:\n",
    "    total = 0\n",
    "    for digit in number:\n",
    "        total += int(digit) **len(number)\n",
    "\n",
    "    if total == int(number):\n",
    "        print( number, \"is armstrong number\")\n",
    "    else:\n",
    "        print( number, \"is not armstrong number\")"
   ]
  },
  {
   "cell_type": "raw",
   "id": "ee6cf593-dcaf-4305-b636-094cb43b04ce",
   "metadata": {},
   "source": [
    "# Kullanıcının girdiği sayının TIDY NUMBER olup olmadığını bulan kod:"
   ]
  },
  {
   "cell_type": "code",
   "execution_count": 2,
   "id": "273635fa-7d91-4033-9a3b-616f7400eeef",
   "metadata": {},
   "outputs": [
    {
     "name": "stdin",
     "output_type": "stream",
     "text": [
      "please enter a number : 23\n"
     ]
    },
    {
     "name": "stdout",
     "output_type": "stream",
     "text": [
      "23 is a tidy number.\n"
     ]
    }
   ],
   "source": [
    "num = input(\"please enter a number :\")\n",
    "\n",
    "num_list = list(num)\n",
    "new_list = []\n",
    "n = 0\n",
    "\n",
    "while n < len(num_list)-1:\n",
    "    \n",
    "  new_list.append(num_list[n+1] >= num_list[n])\n",
    "  n += 1\n",
    "\n",
    "if False in new_list:\n",
    "  print(f\"{num} is not a tidy number.\")\n",
    "else:\n",
    "  print(f\"{num} is a tidy number.\")"
   ]
  },
  {
   "cell_type": "code",
   "execution_count": 1,
   "id": "5aa8ce44-f1fe-493f-9a3c-c6f4be554cef",
   "metadata": {},
   "outputs": [
    {
     "name": "stdin",
     "output_type": "stream",
     "text": [
      "bir sayı:  22\n"
     ]
    },
    {
     "name": "stdout",
     "output_type": "stream",
     "text": [
      "True\n"
     ]
    }
   ],
   "source": [
    "y=input(\"bir sayı: \")\n",
    "x=0\n",
    "for n in y:\n",
    "  if int(n) >= x :\n",
    "    x=int(n)\n",
    "  else:\n",
    "    print(\"False\")\n",
    "    break\n",
    "if int(n) >= x:\n",
    "  print(\"True\")"
   ]
  },
  {
   "cell_type": "raw",
   "id": "a03616e7-9799-4af0-bb66-927d2b85d223",
   "metadata": {},
   "source": [
    "GİRİLEN SAYILARDAN EN BÜYÜĞÜNÜ BULMA "
   ]
  },
  {
   "cell_type": "code",
   "execution_count": 1,
   "id": "47cbb00d-d4fc-47cf-9c17-1e290666378b",
   "metadata": {},
   "outputs": [
    {
     "name": "stdin",
     "output_type": "stream",
     "text": [
      "Please enter any number:  258\n",
      "Please enter any number:  369\n",
      "Please enter any number:  147\n"
     ]
    },
    {
     "name": "stdout",
     "output_type": "stream",
     "text": [
      " 369 is the largest number\n"
     ]
    }
   ],
   "source": [
    "\n",
    "\n",
    "w=int(input(\"Please enter any number: \"))\n",
    "e=int(input(\"Please enter any number: \"))\n",
    "r=int(input(\"Please enter any number: \"))\n",
    "t=[w,e,r]\n",
    "u=max(t)\n",
    "print(\" {} is the largest number\".format(u))"
   ]
  },
  {
   "cell_type": "code",
   "execution_count": null,
   "id": "b4cbdb26-d52e-4060-9170-54c8ece4ab12",
   "metadata": {},
   "outputs": [],
   "source": []
  }
 ],
 "metadata": {
  "kernelspec": {
   "display_name": "Python 3.9.7 ('base')",
   "language": "python",
   "name": "python397jvsc74a57bd03feafa846314bf967464ba1735bf7a19dfbee6e632141cf7975b030d17f0e6e8"
  },
  "language_info": {
   "codemirror_mode": {
    "name": "ipython",
    "version": 3
   },
   "file_extension": ".py",
   "mimetype": "text/x-python",
   "name": "python",
   "nbconvert_exporter": "python",
   "pygments_lexer": "ipython3",
   "version": "3.9.7"
  }
 },
 "nbformat": 4,
 "nbformat_minor": 5
}
