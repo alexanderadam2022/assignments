{
 "cells": [
  {
   "cell_type": "markdown",
   "id": "7080bc86-f1c3-477b-bfa5-ee75672ccdf9",
   "metadata": {},
   "source": [
    "\n",
    "Python Assignment - 011/01 (Calculate Profit)\n",
    "\n",
    "💡Objective:\n",
    "To improve your arithmetic algorithm and problem solving skills.\n",
    "\n",
    "Problem : If you had deposited a coin on the cryptocurrency exchange that brought 7% fixed profit daily for a week, how much would your $ 1000 reach at the end of the 7th day?\n"
   ]
  },
  {
   "cell_type": "code",
   "execution_count": 2,
   "id": "9ffd99a3-8302-4f8c-838c-ec805ffabf55",
   "metadata": {},
   "outputs": [
    {
     "name": "stdout",
     "output_type": "stream",
     "text": [
      "The amount of money which end of 7th day is $1605.7814764784307\n"
     ]
    }
   ],
   "source": [
    "money = 1000\n",
    "rate_per_day = 0.07\n",
    "day = 7\n",
    "result_money = money * (rate_per_day + 1) ** day\n",
    "print(f'The amount of money which end of 7th day is ${result_money}')"
   ]
  },
  {
   "cell_type": "markdown",
   "id": "99b57b0d-cba6-47b4-9b75-113ae1170381",
   "metadata": {},
   "source": [
    "\n",
    "Assignment - 011/02 (Measure Converter)\n",
    "\n",
    "💡Objective:\n",
    "To improve your arithmetic algorithm and knowledge of several functions skills.\n",
    "\n",
    "Write two Python codes on your Playground/IDE and submit your codes (answer) as plain text. When you are submitting your responses, leave two blank lines between two code blocks (answers) that you will submit.\n",
    "\n",
    "Task-1:\n",
    "\n",
    "Write a short Python program that asks the user to enter Celsius temperature (it can be a decimal number), converts the entered temperature into Fahrenheit degree and prints the result.\n",
    "\n",
    "Task-2:\n",
    "Write a short Python program that asks the user to enter a distance (it can be a decimal number) in kilometers, converts the entered distance into miles and prints the result.\n"
   ]
  },
  {
   "cell_type": "code",
   "execution_count": 3,
   "id": "0ef9df07-abf2-4322-8b19-c7657202ce6b",
   "metadata": {},
   "outputs": [
    {
     "name": "stdin",
     "output_type": "stream",
     "text": [
      "Enter temperature in celsius:  20\n"
     ]
    },
    {
     "name": "stdout",
     "output_type": "stream",
     "text": [
      "20.00 Celsius is: 68.00 Fahrenheit\n"
     ]
    }
   ],
   "source": [
    "celsius = float(input(\"Enter temperature in celsius: \"))\n",
    "fahrenheit = (celsius * 9/5) + 32\n",
    "print('%.2f Celsius is: %0.2f Fahrenheit' %(celsius, fahrenheit))"
   ]
  },
  {
   "cell_type": "code",
   "execution_count": 4,
   "id": "65f2ec4d-735a-4924-9e55-d09764e880b9",
   "metadata": {},
   "outputs": [
    {
     "name": "stdin",
     "output_type": "stream",
     "text": [
      "Enter distance in kilometers:  20\n"
     ]
    },
    {
     "name": "stdout",
     "output_type": "stream",
     "text": [
      "20.00 kilometers is equal to 12.43 miles\n"
     ]
    }
   ],
   "source": [
    "kilometers = float(input(\"Enter distance in kilometers: \"))\n",
    "conv_fac = 0.621371\n",
    "miles = kilometers * conv_fac\n",
    "print('%0.2f kilometers is equal to %0.2f miles' %(kilometers,miles))"
   ]
  },
  {
   "cell_type": "markdown",
   "id": "1498e2c4-f880-4756-a059-759c4872e182",
   "metadata": {},
   "source": [
    "\n",
    "Assignment - 011/03 (Covid - 19 Risk)\n",
    "\n",
    "💡Objective:\n",
    "To improve your boolean logical algorithm skills and to raise your awareness of coronavirus.\n",
    "\n",
    "Problem :\n",
    "\n",
    "Task : Estimating the risk of death from coronavirus.\n",
    "\n",
    "Consider the following questions in terms of True/False regarding anyone else.\n",
    "\n",
    "Are you a cigarette addict older than 75 years old? Variable → age\n",
    "\n",
    "Do you have a severe chronic disease? Variable → chronic\n",
    "\n",
    "Is your immune system too weak? Variable → immune\n",
    "\n",
    "Set a logical algorithm using boolean logic operators (and/or) and the given variables in order to give us True (there is a risk of death) or False (there is not a risk of death) as a result.\n",
    "\n",
    "age =  # can be assigned only True/False\n",
    "chronic =  # can be assigned only True/False\n",
    "immune =  # can be assigned only True/False\n",
    "risk = ? (True or False)\n"
   ]
  },
  {
   "cell_type": "code",
   "execution_count": 8,
   "id": "d6a08b5b-18cc-430b-8f4d-a2a057be4f6b",
   "metadata": {},
   "outputs": [
    {
     "name": "stdin",
     "output_type": "stream",
     "text": [
      "Are you a cigarette addict older than 75 years old?(If 'yes' press 1, 'no' press 0) 1\n",
      "Do you have a severe chronic disease?(If 'yes' press 1, 'no' press 0) 0\n",
      "Is your immune system too weak?(If 'yes' press 1, 'no' press 0) 1\n"
     ]
    },
    {
     "name": "stdout",
     "output_type": "stream",
     "text": [
      "False\n"
     ]
    }
   ],
   "source": [
    "\t\n",
    "age = int(input(\"Are you a cigarette addict older than 75 years old?(If 'yes' press 1, 'no' press 0)\"))\n",
    "chronic =int(input(\"Do you have a severe chronic disease?(If 'yes' press 1, 'no' press 0)\"))\n",
    "immune = int(input(\"Is your immune system too weak?(If 'yes' press 1, 'no' press 0)\"))\n",
    "risk = bool(age) or bool(chronic) or bool(immune)\n",
    "print(not risk)"
   ]
  },
  {
   "cell_type": "code",
   "execution_count": 9,
   "id": "5ffc752f-ae26-4649-84b2-7b02e825f547",
   "metadata": {},
   "outputs": [
    {
     "name": "stdin",
     "output_type": "stream",
     "text": [
      "Are you a cigarette addict older than 75 years old?: yes\n",
      "Do you have a severe chronic disease?: no\n",
      "Is your immune system too weak?: no\n"
     ]
    }
   ],
   "source": [
    "age = input(\"Are you a cigarette addict older than 75 years old?:\").lower()\n",
    "chronic = input(\"Do you have a severe chronic disease?:\").lower()\n",
    "immune = input(\"Is your immune system too weak?:\").lower()"
   ]
  },
  {
   "cell_type": "code",
   "execution_count": 10,
   "id": "b8096574-e5ee-4a57-90cb-51a2f0cfa2fc",
   "metadata": {},
   "outputs": [
    {
     "name": "stdout",
     "output_type": "stream",
     "text": [
      "You are not in risky group\n"
     ]
    }
   ],
   "source": [
    "if age == \"Yes\":\n",
    "    age = True\n",
    "else:\n",
    "    age = False\n",
    "if chronic == \"Yes\":\n",
    "    chronic = True\n",
    "else:\n",
    "    chronic = False \n",
    "if immune == \"Yes\":\n",
    "    immune = True\n",
    "else:\n",
    "    immune = False\n",
    "if age or chronic or immune:\n",
    "    print(\"You are in risky group\")\n",
    "else:\n",
    "    print(\"You are not in risky group\")"
   ]
  },
  {
   "cell_type": "markdown",
   "id": "5ca2823a-b403-4188-9c11-ece7010db743",
   "metadata": {},
   "source": [
    "\n",
    "Assignment - 011/01 (The Most Frequent Element)\n",
    "\n",
    "💡Objective:\n",
    "To improve your knowledge of collection types (list), working with several built-in functions skills.\n",
    "\n",
    "Task : Find out the most frequent number and its frequency.\n",
    "\n",
    "Write a program that;\n",
    "\n",
    "Finds out the most frequent number in the given list.\n",
    "Calculates its frequency.\n",
    "Prints out the result such as :\n",
    "\n",
    "numbers = [1, 3, 7, 4, 3, 0, 3, 6, 3]\n",
    "the most frequent number is 3 and it was 4 times repeated\n"
   ]
  },
  {
   "cell_type": "code",
   "execution_count": 11,
   "id": "e3becaae-2c8f-4b3c-9e0c-4ae032a0069a",
   "metadata": {},
   "outputs": [
    {
     "name": "stdout",
     "output_type": "stream",
     "text": [
      "Counter({3: 4, 1: 1, 7: 1, 4: 1, 0: 1, 6: 1})\n",
      "[(3, 4), (1, 1), (7, 1), (4, 1), (0, 1), (6, 1)]\n",
      "the most frequent number is 3 and it was 4 times repeated\n"
     ]
    }
   ],
   "source": [
    "import collections\n",
    "numbers = [1, 3, 7, 4, 3, 0, 3, 6, 3] #\tthe most frequent number is 3 and it was 4 times repeated\n",
    "counter = collections.Counter(numbers)\n",
    "a = counter.most_common()\n",
    "print(counter)\n",
    "print(a)\n",
    "print(\"the most frequent number is {} and it was {} times repeated\".format(a[0][0], a[0][1]))"
   ]
  },
  {
   "cell_type": "markdown",
   "id": "adff2488-fb8e-4c48-8409-b7248c8e88f3",
   "metadata": {},
   "source": [
    "\n",
    "Assignment - 011/02 (Comfortable Words)\n",
    "\n",
    "💡Objective:\n",
    "To improve your knowledge of collection types (set), boolean logic and raise your awareness of \"ten fingers keyboard\".\n",
    "\n",
    "Task : Find out if the given word is \"comfortable words\" in relation to the ten-finger keyboard use.\n",
    "\n",
    "A comfortable word is a word which you can type always alternating the hand you type with (assuming you type using \n",
    "a Q-keyboard and use of the ten-fingers standard).\n",
    "The word will always be a string consisting of only letters from a to z.\n",
    "Write a program which returns True if it's a comfortable word or False otherwise.\n"
   ]
  },
  {
   "cell_type": "code",
   "execution_count": 12,
   "id": "90e31462-c10b-4144-927f-b7448725d149",
   "metadata": {},
   "outputs": [
    {
     "name": "stdout",
     "output_type": "stream",
     "text": [
      "{'u', 'k', 'y', 'o', 'ö', 'j', 'ğ', 'ı', 'ü', 'h', 'm', 'p', 'ş', 'ç', 'n', 'i', 'l'}\n",
      "{'t', 'f', 'a', 'z', 'v', 'r', 'b', 'e', 'q', 'd', 'c', 'w', 's', 'g', 'x'}\n"
     ]
    },
    {
     "name": "stdin",
     "output_type": "stream",
     "text": [
      "Is it comfortable word, pls ask me?: tester\n"
     ]
    },
    {
     "name": "stdout",
     "output_type": "stream",
     "text": [
      "My words' letters: {'t', 'e', 's', 'r'}\n",
      "Your words' comfortable word situation is set()\n"
     ]
    }
   ],
   "source": [
    "right_hand_fingers_letters = set(\"yuıopğühjklşinmöç\")\n",
    "\n",
    "left_hand_fingers_letters = set(\"qwertasdfgzxcvb\")\n",
    "\n",
    "print(right_hand_fingers_letters)\n",
    "\n",
    "print(left_hand_fingers_letters)\n",
    "\n",
    "word = input(\"Is it comfortable word, pls ask me?:\")\n",
    "\n",
    "set_word = set(word)\n",
    "\n",
    "print(\"My words' letters:\", set_word)\n",
    "\n",
    "print(\"Your words' comfortable word situation is\", (set_word.difference(right_hand_fingers_letters)\\\n",
    "\n",
    "     and set_word.difference(left_hand_fingers_letters)))"
   ]
  },
  {
   "cell_type": "markdown",
   "id": "aa32c9e7-b297-4786-89c4-8c6a70279383",
   "metadata": {},
   "source": [
    "\n",
    "Assignment - 011/01 (Password Reminder)\n",
    "\n",
    "💡Objectives:\n",
    "To improve your conditional algorithm and string operations skills.\n",
    "\n",
    "Task : Let's say; you left a message in the past that prints a password you need. To see the password you wrote, you need to enter your name and the program should recognize you.\n",
    "Write a program that \n",
    "\n",
    "Takes the first name from the user and compares it to yours,\n",
    "Then if the name the user entered is the same as yours, print out such as : \"Hello, Joseph! The password is : W@12\",\n",
    "If the name the user entered is not the same as yours, print out such as : \"Hello, Amina! See you later.\"\n"
   ]
  },
  {
   "cell_type": "code",
   "execution_count": 13,
   "id": "ab103120-c2c0-4d4a-b10a-d4e646a9638c",
   "metadata": {},
   "outputs": [
    {
     "name": "stdin",
     "output_type": "stream",
     "text": [
      "Enter your first name2:  Joseph\n"
     ]
    },
    {
     "name": "stdout",
     "output_type": "stream",
     "text": [
      "Hello, Joseph! The password is : W@12 \n"
     ]
    }
   ],
   "source": [
    "name1 = \"Joseph\"\n",
    "\n",
    "first_name2 = input(\"Enter your first name2: \")\n",
    "\n",
    "\n",
    "\n",
    "if first_name2.title() == name1 :\n",
    "\n",
    "  print(\"Hello, Joseph! The password is : W@12 \")\n",
    "\n",
    "else :\n",
    "\n",
    "  print(f\"Hello, {first_name2}! See you later.\")"
   ]
  },
  {
   "cell_type": "markdown",
   "id": "21cf60cf-4916-4237-a8c9-1d0e327ee4a0",
   "metadata": {},
   "source": [
    "\n",
    "Assignment - 011/02 (Covid-19 Risk with if Statements)\n",
    "\n",
    "💡Objective:\n",
    "To improve your boolean logic and setting condition algorithm skills and to raise your awareness of coronavirus.\n",
    "\n",
    "Problem :\n",
    "\n",
    "Task : Estimating the risk of death from coronavirus. Write a program that;\n",
    "\n",
    "Takes \"Yes\" or \"No\" from the user as an answer to the following questions :\n",
    "\n",
    "Are you a cigarette addict older than 75 years old? Variable → age\n",
    "\n",
    "Do you have a severe chronic disease? Variable → chronic\n",
    "\n",
    "Is your immune system too weak? Variable → immune\n",
    "\n",
    "Set a logical algorithm using boolean logic operators (and/or) and use if-statements with the given variables in order to print out us a message : \"You are in risky group\"(if True ) or \"You are not in risky group\" (if False).\n",
    "age =  # can be assigned only True/False\n",
    "chronic =  # can be assigned only True/False\n",
    "immune =  # can be assigned only True/False\n",
    "risk = ?\n"
   ]
  },
  {
   "cell_type": "code",
   "execution_count": 14,
   "id": "c50409cc-474d-4e03-98c7-89da972195e8",
   "metadata": {},
   "outputs": [
    {
     "name": "stdin",
     "output_type": "stream",
     "text": [
      "Are you a cigarette addict older than 75 years old?: no\n",
      "Do you have a severe chronic disease?: no\n",
      "Is your immune system too weak?: yes\n"
     ]
    },
    {
     "name": "stdout",
     "output_type": "stream",
     "text": [
      "You are not in risky group\n"
     ]
    }
   ],
   "source": [
    "age = input(\"Are you a cigarette addict older than 75 years old?:\").lower()\n",
    "\n",
    "chronic = input(\"Do you have a severe chronic disease?:\").lower()\n",
    "\n",
    "immune = input(\"Is your immune system too weak?:\").lower()\n",
    "\n",
    "if age == \"Yes\":\n",
    "\n",
    "    age = True\n",
    "\n",
    "else:\n",
    "\n",
    "    age = False\n",
    "\n",
    "if chronic == \"Yes\":\n",
    "\n",
    "    chronic = True\n",
    "\n",
    "else:\n",
    "\n",
    "    chronic = False \n",
    "\n",
    "if immune == \"Yes\":\n",
    "\n",
    "    immune = True\n",
    "\n",
    "else:\n",
    "\n",
    "    immune = False\n",
    "\n",
    "if age or chronic or immune:\n",
    "\n",
    "    print(\"You are in risky group\")\n",
    "\n",
    "else:\n",
    "\n",
    "    print(\"You are not in risky group\")"
   ]
  },
  {
   "cell_type": "markdown",
   "id": "717583f6-9dbe-42ef-bf10-d4b512590464",
   "metadata": {},
   "source": [
    "\n",
    "Assignment - 011/03 (Armstrong Numbers)\n",
    "\n",
    "💡Objective:\n",
    "To improve your control flow statement and arithmetic operator algorithm skills.\n",
    "\n",
    "Task:\n",
    "\n",
    "Find out if a given number is an \"Armstrong Number\".\n",
    "\n",
    "An n-digit number that is the sum of the nth powers of its digits is called an n-Armstrong number. Examples :\n",
    "371 = 33 + 73 + 13;\n",
    "9474 = 94 + 44 + 74 + 44;\n",
    "93084 = 95 + 35 + 05 + 85 + 45.\n",
    "\n",
    "Write a Python program that;\n",
    "takes a positive integer number from the user,\n",
    "checks the entered number if it is Armstrong,\n",
    "consider the negative, float and any entries other than numeric values then display a warning message to the user.\n",
    "\n",
    "407\t--> 407 is an Armstrong number\n"
   ]
  },
  {
   "cell_type": "code",
   "execution_count": 15,
   "id": "d97db60a-9b8d-4ec4-8459-8132e255cbcf",
   "metadata": {},
   "outputs": [
    {
     "name": "stdin",
     "output_type": "stream",
     "text": [
      "Enter a number:  407\n"
     ]
    },
    {
     "name": "stdout",
     "output_type": "stream",
     "text": [
      "407 is an Armstrong number\n"
     ]
    }
   ],
   "source": [
    "num = int(input(\"Enter a number: \"))\n",
    "\n",
    "order = len(str(num))\n",
    "\n",
    "sum = 0\n",
    "\n",
    "temp = num\n",
    "\n",
    "while temp > 0:\n",
    "\n",
    "   digit = temp % 10\n",
    "\n",
    "   sum += digit ** order\n",
    "\n",
    "   temp //= 10\n",
    "\n",
    "\n",
    "\n",
    "if num == sum:\n",
    "\n",
    "   print(num,\"is an Armstrong number\")\n",
    "\n",
    "else:\n",
    "\n",
    "   print(num,\"is not an Armstrong number\")"
   ]
  },
  {
   "cell_type": "markdown",
   "id": "fe4e1284-9dc8-4ae4-8fe3-03deccde3728",
   "metadata": {},
   "source": [
    "\n",
    "Assignment - 011/04 (Is it a Prime Number?)\n",
    "\n",
    "💡Objective:\n",
    "To improve your control flow statement skills and to raise your awareness of some algebraic knowledge.\n",
    "\n",
    "Task : Write a program that takes a number from the user and prints the result to check if it is a prime number.\n",
    "\n",
    "The examples of the desired output are as follows :\n",
    "\n",
    "input →  19 ⇉ output : 19 is a prime number\n",
    "input →  10 ⇉ output : 10 is not a prime number\n"
   ]
  },
  {
   "cell_type": "code",
   "execution_count": 16,
   "id": "857a3eaa-bf9b-41f9-a7c0-2a7c3e845abf",
   "metadata": {},
   "outputs": [
    {
     "name": "stdin",
     "output_type": "stream",
     "text": [
      "Enter a number to check if it is a prime number:  19\n"
     ]
    },
    {
     "name": "stdout",
     "output_type": "stream",
     "text": [
      "19 is a prime number\n"
     ]
    }
   ],
   "source": [
    "n = int(input(\"Enter a number to check if it is a prime number: \"))\n",
    "\n",
    "count = 0 \n",
    "\n",
    "for i in range(1,n+1) :\n",
    "\n",
    "    if  not n % i :\n",
    "\n",
    "        count += 1\n",
    "\n",
    "if (n == 0) or (n == 1) or (count >= 3) :\n",
    "\n",
    "    print(n, \"is not a prime number\")\n",
    "\n",
    "else :\n",
    "\n",
    "     print(n, \"is a prime number\")"
   ]
  },
  {
   "cell_type": "markdown",
   "id": "4e476e37-b415-4f43-ac5e-2bf330384376",
   "metadata": {},
   "source": [
    "\n",
    "Assignment - 011/05 (Fibonacci Numbers)\n",
    "\n",
    "💡Objective:\n",
    "To improve your control flow statement skills and to raise your awareness of some algebraic knowledge.\n",
    "\n",
    "Task : Create a list consisting of Fibonacci numbers from 1 to 55 using control flow statements and range() function.\n",
    "\n",
    "The desired output is like this:\n",
    "\n",
    "fibonacci →  [1, 1, 2, 3, 5, 8, 13, 21, 34, 55]\n"
   ]
  },
  {
   "cell_type": "code",
   "execution_count": 17,
   "id": "fe727a99-9aec-4eea-9c57-b1fa100552e4",
   "metadata": {},
   "outputs": [
    {
     "name": "stdout",
     "output_type": "stream",
     "text": [
      "[1, 1, 2, 3, 5, 8, 13, 21, 34, 55]\n"
     ]
    }
   ],
   "source": [
    "list = []\n",
    "\n",
    "x, y = 1, 1\n",
    "\n",
    "\n",
    "\n",
    "while x <= 55 :\n",
    "\n",
    "    list.append(x)\n",
    "\n",
    "    x, y = y, y + x\n",
    "\n",
    "print(list)"
   ]
  },
  {
   "cell_type": "code",
   "execution_count": 18,
   "id": "0ec86fd8-94e1-4961-8f7b-cf6cd88f0008",
   "metadata": {},
   "outputs": [
    {
     "name": "stdout",
     "output_type": "stream",
     "text": [
      "fibonacci list:  [1, 1, 2, 3, 5, 8, 13, 21, 34, 55]\n"
     ]
    }
   ],
   "source": [
    "#Task : Create a list consisting of Fibonacci numbers from\n",
    "# 1 to 55 using control flow statements and range() function.\n",
    "\n",
    "fibonacci_list = [1, 1]\n",
    "for i in range(8):\n",
    "    number = fibonacci_list[i] + fibonacci_list[i + 1]\n",
    "    fibonacci_list.append(number)\n",
    "    # print(number, fibonacci_list)\n",
    "\n",
    "print(\"fibonacci list: \", fibonacci_list)"
   ]
  },
  {
   "cell_type": "code",
   "execution_count": 19,
   "id": "99ed0c17-a40f-4376-ae69-4c0eab06c132",
   "metadata": {},
   "outputs": [
    {
     "data": {
      "text/plain": [
       "[1, 1, 2, 3, 5, 8, 13, 21, 34, 55]"
      ]
     },
     "execution_count": 19,
     "metadata": {},
     "output_type": "execute_result"
    }
   ],
   "source": [
    "# hocanın çözümü\n",
    "\n",
    "fibo = [1, 1]\n",
    "\n",
    "for i in range(8) :\n",
    "    fibo.append(fibo[i] + fibo[i+1])\n",
    "fibo"
   ]
  },
  {
   "cell_type": "markdown",
   "id": "2e3ef3cd-7ffd-462c-84eb-fc69cd6d20f2",
   "metadata": {},
   "source": [
    "\n",
    "Assignment - 011/06 (Prime Numbers)\n",
    "\n",
    "💡Objective:\n",
    "To improve your control flow statement skills and to raise your awareness of some algebraic knowledge.\n",
    "\n",
    "Task : Print the prime numbers which are between 1 to entered limit number (n).\n",
    "\n",
    "You can use a nested for loop.\n",
    "Collect all these numbers into a list\n",
    "The desired output for n=100 :\n",
    "\n",
    "[2, 3, 5, 7, 11, 13, 17, 19, 23, 29, 31, 37, 41, 43, 47, 53, 59,\n",
    "61, 67, 71, 73, 79, 83, 89, 97]\n"
   ]
  },
  {
   "cell_type": "code",
   "execution_count": 20,
   "id": "80967e33-e072-4a49-af8d-383589cf72f4",
   "metadata": {},
   "outputs": [
    {
     "name": "stdout",
     "output_type": "stream",
     "text": [
      "[2, 3, 5, 7, 11, 13, 17, 19, 23, 29, 31, 37, 41, 43, 47, 53, 59, 61, 67, 71, 73, 79, 83, 89, 97]\n"
     ]
    }
   ],
   "source": [
    "n = 100\n",
    "\n",
    "prime_numbers = []\n",
    "\n",
    "for i in range(2, n + 1):\n",
    "\n",
    "\tfor j in range(2, int(i ** 0.5) + 1):\n",
    "\n",
    " \t\tif i % j == 0:\n",
    "\n",
    " \t\t\tbreak\n",
    "\telse:\n",
    "\n",
    "\t\tprime_numbers.append(i)\n",
    "\n",
    "print(prime_numbers)"
   ]
  },
  {
   "cell_type": "markdown",
   "id": "654b79e8-f549-4dde-8ec1-fe1c868665c0",
   "metadata": {},
   "source": [
    "\n",
    "Assignment - 1 (Doubler)\n",
    "\n",
    "💡 Objective :\n",
    "To improve your defining function skills.\n",
    "\n",
    "Given two integer values, return their sum. If the two values are the same, then return double their sum.\n",
    "print(sum_double(1, 2)) --> 3\n",
    "print(sum_double(5, 7)) --> 12\n",
    "print(sum_double(5, 5)) --> 20\n"
   ]
  },
  {
   "cell_type": "code",
   "execution_count": 22,
   "id": "386bfe82-1c2f-4506-a23c-1c3ce82b9438",
   "metadata": {},
   "outputs": [
    {
     "name": "stdout",
     "output_type": "stream",
     "text": [
      "3\n",
      "12\n",
      "20\n"
     ]
    }
   ],
   "source": [
    "def sum_double(x, y):\n",
    "    if x == y :\n",
    "        return((x * 2) + (y * 2))\n",
    "    else:\n",
    "       return(x + y)\n",
    "\n",
    "print(sum_double(1,2))\n",
    "print(sum_double(5,7))\n",
    "print(sum_double(5,5))"
   ]
  },
  {
   "cell_type": "markdown",
   "id": "eb6c545f-a2a0-4108-81b8-9a24e12d32ab",
   "metadata": {},
   "source": [
    "\n",
    "Assignment - 2 (Parrot Trouble)\n",
    "\n",
    "💡 Objective :\n",
    "To improve your defining function and conditional skills.\n",
    "\n",
    "We have a loud talking parrot. We are in trouble if the parrot is talking and the hour is before 6 or after 21.\n",
    "Define a function taking two parameters (talking and hour) to return True if we are in trouble. The argument to  talking parameter can only be True or False whether it is talking or not. The argument to hour parameter should be the current hour time in the range of 0 to 23.\n",
    "\n",
    "print(parrot_trouble(True, 5))\n",
    "True\n",
    "print(parrot_trouble(True, 8))\n",
    "False\n",
    "print(parrot_trouble(False, 22))\n",
    "False\n"
   ]
  },
  {
   "cell_type": "code",
   "execution_count": 25,
   "id": "7c998214-ffc6-4818-bd35-5acf5473d3f2",
   "metadata": {},
   "outputs": [
    {
     "name": "stdout",
     "output_type": "stream",
     "text": [
      "True\n"
     ]
    }
   ],
   "source": [
    "def parrot_trouble(talking, hour):\n",
    "    if talking == True and (hour<6 or hour>21):\n",
    "      return (True)\n",
    "    else:\n",
    "      return (False)\n",
    "print(parrot_trouble(True, 5))"
   ]
  },
  {
   "cell_type": "markdown",
   "id": "41046b15-178e-4dfc-8adc-9e3656f90d6f",
   "metadata": {},
   "source": [
    "\n",
    "Assignment - 011/07 (Fizz - Buzz Numbers)\n",
    "\n",
    "💡Objective:\n",
    "To improve your control flow statement skills and to raise your awareness of some arithmetic knowledge.\n",
    "\n",
    "Task : Print the Fizz Buzz numbers.\n",
    "\n",
    "Fizz Buzz is a famous code challenge used in interviews to test basic programming skills. It's time to write your own implementation.\n",
    "Print numbers from 1 to 100 inclusively following these instructions:\n",
    "if a number is multiple of 3, print \"Fizz\" instead of this number,\n",
    "if a number is multiple of 5, print \"Buzz\" instead of this number,\n",
    "for numbers that are multiples of both 3 and 5, print \"FizzBuzz\",\n",
    "print the rest of the numbers unchanged.\n",
    "Output each value on a separate line.\n"
   ]
  },
  {
   "cell_type": "code",
   "execution_count": 26,
   "id": "483c2b17-5016-4644-b4dc-5869d48eaf48",
   "metadata": {},
   "outputs": [
    {
     "name": "stdout",
     "output_type": "stream",
     "text": [
      "1\n",
      "2\n",
      "Fizz\n",
      "4\n",
      "Buzz\n",
      "Fizz\n",
      "7\n",
      "8\n",
      "Fizz\n",
      "Buzz\n",
      "11\n",
      "Fizz\n",
      "13\n",
      "14\n",
      "FizzBuzz\n",
      "16\n",
      "17\n",
      "Fizz\n",
      "19\n",
      "Buzz\n",
      "Fizz\n",
      "22\n",
      "23\n",
      "Fizz\n",
      "Buzz\n",
      "26\n",
      "Fizz\n",
      "28\n",
      "29\n",
      "FizzBuzz\n",
      "31\n",
      "32\n",
      "Fizz\n",
      "34\n",
      "Buzz\n",
      "Fizz\n",
      "37\n",
      "38\n",
      "Fizz\n",
      "Buzz\n",
      "41\n",
      "Fizz\n",
      "43\n",
      "44\n",
      "FizzBuzz\n",
      "46\n",
      "47\n",
      "Fizz\n",
      "49\n",
      "Buzz\n",
      "Fizz\n",
      "52\n",
      "53\n",
      "Fizz\n",
      "Buzz\n",
      "56\n",
      "Fizz\n",
      "58\n",
      "59\n",
      "FizzBuzz\n",
      "61\n",
      "62\n",
      "Fizz\n",
      "64\n",
      "Buzz\n",
      "Fizz\n",
      "67\n",
      "68\n",
      "Fizz\n",
      "Buzz\n",
      "71\n",
      "Fizz\n",
      "73\n",
      "74\n",
      "FizzBuzz\n",
      "76\n",
      "77\n",
      "Fizz\n",
      "79\n",
      "Buzz\n",
      "Fizz\n",
      "82\n",
      "83\n",
      "Fizz\n",
      "Buzz\n",
      "86\n",
      "Fizz\n",
      "88\n",
      "89\n",
      "FizzBuzz\n",
      "91\n",
      "92\n",
      "Fizz\n",
      "94\n",
      "Buzz\n",
      "Fizz\n",
      "97\n",
      "98\n",
      "Fizz\n",
      "Buzz\n"
     ]
    }
   ],
   "source": [
    "for i in range(1,101):\n",
    "\n",
    "    if not i % 15:\n",
    "\n",
    "        i = \"FizzBuzz\"\n",
    "\n",
    "    elif not i % 5:\n",
    "\n",
    "        i = \"Buzz\"\n",
    "\n",
    "    elif not i % 3:\n",
    "\n",
    "        i = \"Fizz\"\n",
    "\n",
    "    print(i, sep=\"\\n\")"
   ]
  },
  {
   "cell_type": "markdown",
   "id": "354f9176-31e0-4a34-a855-464adc629419",
   "metadata": {},
   "source": [
    "\n",
    "Assignment - 3 (Negative Meaning)\n",
    "\n",
    "💡 Objective :\n",
    "To improve your defining function skills and string operations ability.\n",
    "\n",
    "Define a function to take a word and return negative meaning.\n",
    "Given a word, return a new word where \"not \" has been added to the front. However, if the word already begins with \"not\", return the string unchanged.\n",
    "\n",
    "print(not_string('sugar'))\n",
    "not sugar\n",
    "print(not_string('x'))\n",
    "not x\n",
    "print(not_string('not bad'))\n",
    "not bad\n"
   ]
  },
  {
   "cell_type": "code",
   "execution_count": 27,
   "id": "347ba683-67fe-4b91-a214-0b99ec7a1153",
   "metadata": {},
   "outputs": [
    {
     "name": "stdout",
     "output_type": "stream",
     "text": [
      "not sugar\n",
      "not x\n",
      "not bad\n"
     ]
    }
   ],
   "source": [
    "def not_string(word):\n",
    "    if word.startswith(\"not\"):\n",
    "        return(word)\n",
    "    else:\n",
    "        return \"not \" + word\n",
    "print(not_string('sugar'))\n",
    "print(not_string('x'))\n",
    "print(not_string('not bad'))"
   ]
  },
  {
   "cell_type": "markdown",
   "id": "c585a30d-0738-41b4-9ad9-6ba64a2330d0",
   "metadata": {},
   "source": [
    "\n",
    "Assignment - 011/08 (Letter Count)\n",
    "\n",
    "💡Objective:\n",
    "To improve your control flow statement skill and dictionary knowledge.\n",
    "\n",
    "Task:\n",
    "\n",
    "Count the number of each letter in a sentence.\n",
    "The department you work for undertook a project construction that makes word / text analysis. You are asked to calculate the number of letters or any chars in the sentences entered under this project.\n",
    "Write a Python program that;\n",
    "takes a sentence from the user,\n",
    "counts the number of each letter/chars of the sentence,\n",
    "collects the letters/chars as a key and the counted numbers as a value in a dictionary.\n",
    "\n",
    "hippo runs to us!\t\n",
    "{'s': 2, 'r': 1, 't': 1, 'h': 1, 'n': 1, \n",
    "'i': 1, 'u': 2, 'o': 2, 'p': 2, ' ': 3, '!': 1}\n"
   ]
  },
  {
   "cell_type": "code",
   "execution_count": 28,
   "id": "cff16d97-2c5c-4ba9-ac4d-1f490606b3c7",
   "metadata": {},
   "outputs": [
    {
     "data": {
      "text/plain": [
       "{'h': 1,\n",
       " 'i': 1,\n",
       " 'p': 2,\n",
       " 'o': 2,\n",
       " ' ': 3,\n",
       " 'r': 1,\n",
       " 'u': 2,\n",
       " 'n': 1,\n",
       " 's': 2,\n",
       " 't': 1,\n",
       " '!': 1}"
      ]
     },
     "execution_count": 28,
     "metadata": {},
     "output_type": "execute_result"
    }
   ],
   "source": [
    "\t\n",
    "s = \"hippo runs to us!\"\n",
    "\n",
    "def letter_count(s):\n",
    "\n",
    "    d = {}\n",
    "\n",
    "    for i in s:\n",
    "\n",
    "        d[i] = d.get(i,0)+1\n",
    "\n",
    "    return d\n",
    "\n",
    "letter_count(s)"
   ]
  },
  {
   "cell_type": "code",
   "execution_count": null,
   "id": "0964ccb0-9b88-4f5a-8350-ff17280ae00d",
   "metadata": {},
   "outputs": [],
   "source": []
  }
 ],
 "metadata": {
  "kernelspec": {
   "display_name": "Python 3.9.7 ('base')",
   "language": "python",
   "name": "python397jvsc74a57bd03feafa846314bf967464ba1735bf7a19dfbee6e632141cf7975b030d17f0e6e8"
  },
  "language_info": {
   "codemirror_mode": {
    "name": "ipython",
    "version": 3
   },
   "file_extension": ".py",
   "mimetype": "text/x-python",
   "name": "python",
   "nbconvert_exporter": "python",
   "pygments_lexer": "ipython3",
   "version": "3.9.7"
  }
 },
 "nbformat": 4,
 "nbformat_minor": 5
}
