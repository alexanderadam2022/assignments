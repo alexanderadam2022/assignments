{
  "nbformat": 4,
  "nbformat_minor": 0,
  "metadata": {
    "colab": {
      "name": "21 April 22",
      "provenance": [],
      "collapsed_sections": []
    },
    "kernelspec": {
      "name": "python3",
      "display_name": "Python 3"
    },
    "language_info": {
      "name": "python"
    }
  },
  "cells": [
    {
      "cell_type": "code",
      "execution_count": 9,
      "metadata": {
        "colab": {
          "base_uri": "https://localhost:8080/",
          "height": 53
        },
        "id": "Lt7Jj_RaARrL",
        "outputId": "9d8b678d-0ef7-4128-9662-f7cec7016be8"
      },
      "outputs": [
        {
          "output_type": "stream",
          "name": "stdout",
          "text": [
            "65\n"
          ]
        },
        {
          "output_type": "execute_result",
          "data": {
            "text/plain": [
              "'1 12 9 1 20 1 2 1 11'"
            ],
            "application/vnd.google.colaboratory.intrinsic+json": {
              "type": "string"
            }
          },
          "metadata": {},
          "execution_count": 9
        }
      ],
      "source": [
        "a = {\"a\" : 1 , \"b\":2}\n",
        "\n",
        "print(ord(\"A\"))\n",
        "\n",
        "\n",
        "sentence = \"Ali ata bak\"\n",
        "\n",
        "def func(sentence) :\n",
        "  result = \"\"\n",
        "  for i in sentence :\n",
        "    if i.isalpha() :\n",
        "      result += str(ord(i.upper()) - 64 ) + \" \"\n",
        "  return result.strip()\n",
        "\n",
        "func(sentence)\n"
      ]
    },
    {
      "cell_type": "code",
      "source": [
        "def func(sentence) :\n",
        "  return \" \".join(str(ord(n.upper()) - 64) for n in sentence if n.isalpha())\n",
        "\n",
        "sentence = \"Ali, ata bak\"\n",
        "\n",
        "print(func(sentence))"
      ],
      "metadata": {
        "colab": {
          "base_uri": "https://localhost:8080/"
        },
        "id": "tN8bGtLfDhv9",
        "outputId": "333fd73a-5196-4f16-aea9-198045d7ebdb"
      },
      "execution_count": 14,
      "outputs": [
        {
          "output_type": "stream",
          "name": "stdout",
          "text": [
            "1 12 9 1 20 1 2 1 11\n"
          ]
        }
      ]
    },
    {
      "cell_type": "code",
      "source": [
        "print(ord(\"a\"))"
      ],
      "metadata": {
        "colab": {
          "base_uri": "https://localhost:8080/"
        },
        "id": "akBb8rDXEGDG",
        "outputId": "86ff19a8-3a7f-4e6e-d9f2-98976d29a643"
      },
      "execution_count": 10,
      "outputs": [
        {
          "output_type": "stream",
          "name": "stdout",
          "text": [
            "97\n"
          ]
        }
      ]
    },
    {
      "cell_type": "code",
      "source": [
        "alphabet = {\"a\": 1,\"b\": 2, \"c\": 3, \"d\": 4,\"e\": 5, \"f\": 6, \"g\": 7,\"h\": 8,\"ı\": 9, \"j\": 10,\"k\": 11, \"l\":12, \"m\":13,\n",
        "            \"n\":14,\"o\": 15, \"p\":16, \"q\":17,\"r\":18,\"s\":19, \"t\":20,\"u\":21,\"v\":22,\"w\":23 ,\"x\":24,\"y\":25,\"z\":26,\" \":None\n",
        "            }\n",
        "my_list = []\n",
        "for i in str.lower() :\n",
        "   if i.isalpha():\n",
        "     my_list.append(alphabet.get(i))\n",
        "     print(alphabet[i])\n",
        "\n",
        "     \n",
        "# str1=\"\"\n",
        "# for x in my_list:\n",
        "#   str1 = str1+\"x\"\n",
        "# print(\"\".join(str1))\n",
        "# print(my_list)"
      ],
      "metadata": {
        "id": "rkpA18JfEviA"
      },
      "execution_count": null,
      "outputs": []
    },
    {
      "cell_type": "code",
      "source": [
        "# 10 dk yürüyüş\n",
        "# başlangıç noktasına dönüyorsak True - else False\n",
        "# her adım 1 dk 1 yön\n",
        "# NS  -  WE\n",
        "\n",
        "walk =  \"nsseweens\"\n",
        "\n",
        "def is_valid_walk(walk) :\n",
        "  dicti = {\"n\" : 1 , \"s\" : -1, \"w\" : 1, \"e\" :-1}\n",
        "  ns, we = 0, 0\n",
        "  for i in walk :\n",
        "    if len(walk) != 10 :\n",
        "      return False\n",
        "    elif i == \"n\" or i == \"s\" :\n",
        "      ns += dicti[i]\n",
        "    elif i == \"w\" or i == \"e\" :\n",
        "      we += dicti[i] \n",
        "  return not ns and not we"
      ],
      "metadata": {
        "id": "U84eaNFvFkly"
      },
      "execution_count": null,
      "outputs": []
    },
    {
      "cell_type": "code",
      "source": [
        "def is_valid_walk(walk):\n",
        "    ns, ew = 0, 0\n",
        "    if len(walk) == 10:\n",
        "        for i in walk:\n",
        "            if i == 'n': ns+=1\n",
        "            if i == 's': ns-=1\n",
        "            if i == 'w': ew+=1\n",
        "            if i == 'e': ew-=1\n",
        "    else:\n",
        "        return False\n",
        "    return ns == 0 and ew == 0\n",
        "is_valid_walk(\"esew\")"
      ],
      "metadata": {
        "id": "rLTUPAthJiWq"
      },
      "execution_count": null,
      "outputs": []
    },
    {
      "cell_type": "code",
      "source": [
        "# walk == 10\n",
        "# north == south\n",
        "# west == east\n",
        "\n",
        "walk = \"wweennsnns\"\n",
        "\n",
        "def func(walk) :\n",
        "  return len(walk) == 10 and walk.count(\"n\") == walk.count(\"s\") and walk.count(\"e\") == walk.count(\"w\")\n",
        "\n",
        "print(func(walk))"
      ],
      "metadata": {
        "colab": {
          "base_uri": "https://localhost:8080/"
        },
        "id": "U2XNBs2UJmfH",
        "outputId": "0dc42ca3-5d8e-400d-ad93-2858b2dc6a45"
      },
      "execution_count": 17,
      "outputs": [
        {
          "output_type": "stream",
          "name": "stdout",
          "text": [
            "False\n"
          ]
        }
      ]
    },
    {
      "cell_type": "code",
      "source": [
        "from collections import Counter\n",
        "\n",
        "def is_valid_walk(walk):\n",
        "    a = Counter(walk)\n",
        "    print(a)\n",
        "    vertical = a['n'] - a['s']\n",
        "    horizontal = a['e'] - a['w']\n",
        "    if len(walk) != 10:\n",
        "        return False\n",
        "    else:\n",
        "        if vertical == 0 and horizontal == 0:\n",
        "            return True\n",
        "        else:\n",
        "            return False\n",
        "\n",
        "print(is_valid_walk('nneesswwsn'))\n"
      ],
      "metadata": {
        "colab": {
          "base_uri": "https://localhost:8080/"
        },
        "id": "fPIvEh14JqKu",
        "outputId": "aa51f747-fbed-4e68-bc8a-c0ab54d10a55"
      },
      "execution_count": 20,
      "outputs": [
        {
          "output_type": "stream",
          "name": "stdout",
          "text": [
            "Counter({'n': 3, 's': 3, 'e': 2, 'w': 2})\n",
            "True\n"
          ]
        }
      ]
    },
    {
      "cell_type": "markdown",
      "source": [
        "Complete the solution so that the function will break up camel casing, using a space between words.\n",
        "\n",
        "Example\n",
        "\"camelCasing\"  =>  \"camel Casing\"\n",
        "\"identifier\"   =>  \"identifier\"\n",
        "\"\"             =>  \"\""
      ],
      "metadata": {
        "id": "UN7A9_oCMXYj"
      }
    },
    {
      "cell_type": "code",
      "source": [
        "\n",
        "def func(x) :\n",
        "  y = \"\"\n",
        "  for i in x :\n",
        "    if i == i.upper() :\n",
        "      y += \" \"\n",
        "    y += i\n",
        "  return y\n",
        "\n",
        "a = \"camelCasing\"\n",
        "b = \"identifier\"\n",
        "c = \"jackCan\"\n",
        "d = \"\"\n",
        "e = \"aliAtaBak\"\n",
        "\n",
        "print(func(e))"
      ],
      "metadata": {
        "colab": {
          "base_uri": "https://localhost:8080/"
        },
        "id": "Q4utZyuaMTlR",
        "outputId": "d2322d8c-3484-49b4-cd1e-90e4c6fc663c"
      },
      "execution_count": 25,
      "outputs": [
        {
          "output_type": "stream",
          "name": "stdout",
          "text": [
            "ali Ata Bak\n"
          ]
        }
      ]
    },
    {
      "cell_type": "code",
      "source": [
        "def func(x) :\n",
        "  return (\" \".join(x.insert(\" \", x.index(n)) for n in x if n == n.upper()))\n",
        "\n",
        "\n",
        "a = \"camelCasing\"\n",
        "b = \"identifier\"\n",
        "c = \"jackCan\"\n",
        "d = \"\"\n",
        "e = \"aliAtaBak\"\n",
        "\n",
        "print(func(e))"
      ],
      "metadata": {
        "id": "H8FUafrPP9_U"
      },
      "execution_count": null,
      "outputs": []
    },
    {
      "cell_type": "markdown",
      "source": [
        "The drawing shows 6 squares the sides of which have a length of 1, 1, 2, 3, 5, 8. It’s easy to see that the sum of the perimeters of these squares is : 4 * (1 + 1 + 2 + 3 + 5 + 8) = 4 * 20 = 80 \n",
        "Could you give the sum of the perimeters of all the squares in a rectangle when there are n + 1 squares disposed in the same manner as in the drawing:\n",
        "Hint:\n",
        "See Fibonacci sequence\n",
        "Ref:\n",
        "http://oeis.org/A000045\n",
        "The function perimeter has for parameter n where n + 1 is the number of squares (they are numbered from 0 to n) and returns the total perimeter of all the squares."
      ],
      "metadata": {
        "id": "xegArMJVNEf4"
      }
    },
    {
      "cell_type": "code",
      "source": [
        "\n",
        "\n",
        "\n",
        "\n"
      ],
      "metadata": {
        "id": "WdKn1yofND9e"
      },
      "execution_count": null,
      "outputs": []
    }
  ]
}